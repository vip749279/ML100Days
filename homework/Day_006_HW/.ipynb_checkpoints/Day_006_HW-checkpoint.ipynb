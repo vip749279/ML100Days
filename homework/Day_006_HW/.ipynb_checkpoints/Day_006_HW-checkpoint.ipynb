{
 "cells": [
  {
   "cell_type": "markdown",
   "metadata": {},
   "source": [
    "# 作業: 安裝MongoDB、Robo 3T 工具"
   ]
  },
  {
   "cell_type": "markdown",
   "metadata": {},
   "source": [
    "# [作業目標]\n",
    "* 成功安裝 Mongo資料庫及GUI工具\n",
    "* 能夠使用命令提示工具(cmd、terminal)操作Mongo資料\n",
    "* 能夠使用 Robo 3T 操作Mongo資料"
   ]
  },
  {
   "cell_type": "markdown",
   "metadata": {},
   "source": [
    "# [作業重點]\n",
    "* 了解 DB、Collection、Document 在 Mongo 中所代表的意義。\n",
    "* 能夠手動對資料做增刪改查的操作。"
   ]
  },
  {
   "cell_type": "markdown",
   "metadata": {},
   "source": [
    "# [作業1]\n",
    "* 至以下網站下載 MongoDB 和 Robo 3T 工具，並成功運行。\n",
    "\n",
    "Mongo: https://www.mongodb.com/try/download/community\n",
    "\n",
    "Robo 3T: https://robomongo.org/"
   ]
  },
  {
   "cell_type": "code",
   "execution_count": 2,
   "metadata": {},
   "outputs": [
    {
     "name": "stdout",
     "output_type": "stream",
     "text": [
      "/bin/bash: -c: line 0: syntax error near unexpected token `mongo_create.png'\r\n",
      "/bin/bash: -c: line 0: `[MongoDB](mongo_create.png)'\r\n"
     ]
    }
   ],
   "source": [
    "![MongoDB](mongo_create.png)"
   ]
  },
  {
   "cell_type": "markdown",
   "metadata": {},
   "source": [
    "# [作業2]\n",
    "* 分別使用命令提示工具、Robo 3T圖形介面工具，照以下步驟操作資料。\n",
    "\n",
    "\n",
    "1. 新增一個 DB 名稱自訂。\n",
    "2. 在該 DB 中新增一個 Collection 名稱為 Member\n",
    "3. 在 Collection 中新增一筆會員資料，資料結構如下：\n",
    "    * name : Kevin\n",
    "    * email : test@abc.com\n",
    "    * phone: 0912345678\n",
    "4. 將上述那筆資料的 name 欄位改成 Cathy\n",
    "5. 加入新的欄位 age 到上述那筆資料中，並將值的部分設為 25\n",
    "\n",
    "`註: 請將作業結果截圖下來。`"
   ]
  },
  {
   "cell_type": "code",
   "execution_count": null,
   "metadata": {},
   "outputs": [],
   "source": []
  }
 ],
 "metadata": {
  "kernelspec": {
   "display_name": "Python 3",
   "language": "python",
   "name": "python3"
  },
  "language_info": {
   "codemirror_mode": {
    "name": "ipython",
    "version": 3
   },
   "file_extension": ".py",
   "mimetype": "text/x-python",
   "name": "python",
   "nbconvert_exporter": "python",
   "pygments_lexer": "ipython3",
   "version": "3.8.5"
  }
 },
 "nbformat": 4,
 "nbformat_minor": 4
}
