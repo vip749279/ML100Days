{
 "cells": [
  {
   "cell_type": "markdown",
   "metadata": {},
   "source": [
    "# 作業： 使用 Python 操作 MongoDB"
   ]
  },
  {
   "cell_type": "code",
   "execution_count": 1,
   "metadata": {},
   "outputs": [],
   "source": [
    "from IPython.display import Image"
   ]
  },
  {
   "cell_type": "markdown",
   "metadata": {},
   "source": [
    "# [作業目標]\n",
    "* 能夠使用 Python 對 MongoDB 的資料進行增刪改查操作。\n",
    "* 使用 Robo 3T 工具查看資料。"
   ]
  },
  {
   "cell_type": "markdown",
   "metadata": {},
   "source": [
    "# [作業重點]\n",
    "* 執行程式前，MongoDB Server 記得要先開啟。\n",
    "* 若 DB、Collection 原本不存在，則直到有第一筆資料 insert 進去，才會真的建立 DB 及 Collection"
   ]
  },
  {
   "cell_type": "markdown",
   "metadata": {},
   "source": [
    "# 作業1\n",
    "* 建立 DB 及 Collection (名稱自訂)，使用 Python 取得連線。"
   ]
  },
  {
   "cell_type": "code",
   "execution_count": 2,
   "metadata": {},
   "outputs": [],
   "source": [
    "from pymongo import MongoClient"
   ]
  },
  {
   "cell_type": "code",
   "execution_count": 3,
   "metadata": {},
   "outputs": [],
   "source": [
    "client = MongoClient(host=\"127.0.0.1\",port=27017)"
   ]
  },
  {
   "cell_type": "code",
   "execution_count": 4,
   "metadata": {},
   "outputs": [],
   "source": [
    "db = client[\"ML100Days\"]\n",
    "collection = db[\"member\"]"
   ]
  },
  {
   "cell_type": "markdown",
   "metadata": {},
   "source": [
    "# 作業2\n",
    "* 使用 Python 操作 Mongo 中的資料。"
   ]
  },
  {
   "cell_type": "code",
   "execution_count": 5,
   "metadata": {},
   "outputs": [],
   "source": [
    "#insert_one 新增資料"
   ]
  },
  {
   "cell_type": "code",
   "execution_count": 6,
   "metadata": {},
   "outputs": [],
   "source": [
    "mydata = {'name':'Kevin','phone':'0912345678','email':'test@gmail.com'}"
   ]
  },
  {
   "cell_type": "code",
   "execution_count": 7,
   "metadata": {},
   "outputs": [],
   "source": [
    "result = collection.insert_one(mydata)"
   ]
  },
  {
   "cell_type": "code",
   "execution_count": 8,
   "metadata": {},
   "outputs": [
    {
     "output_type": "stream",
     "name": "stdout",
     "text": [
      "5fe0721044c6dd6501f1aa0f\n"
     ]
    }
   ],
   "source": [
    "print(result.inserted_id)"
   ]
  },
  {
   "cell_type": "code",
   "execution_count": 9,
   "metadata": {},
   "outputs": [],
   "source": [
    "#insert_many 新增多筆資料"
   ]
  },
  {
   "cell_type": "code",
   "execution_count": 10,
   "metadata": {},
   "outputs": [],
   "source": [
    "data_list = [\n",
    "    {'name':'Kitty','phone':'0987654321','email':'kitty@gmail.com'},\n",
    "    {'name':'Michael','phone':'0912345678','email':'michael@gmail.com'},\n",
    "    {'name':'Mike','phone':'09321056789','email':'mike@gmail.com'}\n",
    "]"
   ]
  },
  {
   "cell_type": "code",
   "execution_count": 11,
   "metadata": {},
   "outputs": [],
   "source": [
    "result = collection.insert_many(data_list)"
   ]
  },
  {
   "cell_type": "code",
   "execution_count": 12,
   "metadata": {},
   "outputs": [
    {
     "output_type": "execute_result",
     "data": {
      "text/plain": [
       "[ObjectId('5fe0721044c6dd6501f1aa10'),\n",
       " ObjectId('5fe0721044c6dd6501f1aa11'),\n",
       " ObjectId('5fe0721044c6dd6501f1aa12')]"
      ]
     },
     "metadata": {},
     "execution_count": 12
    }
   ],
   "source": [
    "result.inserted_ids"
   ]
  },
  {
   "cell_type": "code",
   "execution_count": 13,
   "metadata": {},
   "outputs": [],
   "source": [
    "#count_documents({}) 查看數量"
   ]
  },
  {
   "cell_type": "code",
   "execution_count": 14,
   "metadata": {},
   "outputs": [
    {
     "output_type": "execute_result",
     "data": {
      "text/plain": [
       "12"
      ]
     },
     "metadata": {},
     "execution_count": 14
    }
   ],
   "source": [
    "collection.count_documents({})"
   ]
  },
  {
   "cell_type": "code",
   "execution_count": 15,
   "metadata": {},
   "outputs": [
    {
     "output_type": "execute_result",
     "data": {
      "text/plain": [
       "<pymongo.results.DeleteResult at 0x7f99da263bc0>"
      ]
     },
     "metadata": {},
     "execution_count": 15
    }
   ],
   "source": [
    "collection.delete_one({})"
   ]
  },
  {
   "cell_type": "code",
   "execution_count": 16,
   "metadata": {},
   "outputs": [
    {
     "output_type": "execute_result",
     "data": {
      "text/plain": [
       "11"
      ]
     },
     "metadata": {},
     "execution_count": 16
    }
   ],
   "source": [
    "collection.count_documents({})"
   ]
  },
  {
   "cell_type": "code",
   "execution_count": 17,
   "metadata": {},
   "outputs": [
    {
     "output_type": "execute_result",
     "data": {
      "text/plain": [
       "<pymongo.results.DeleteResult at 0x7f99d9a46dc0>"
      ]
     },
     "metadata": {},
     "execution_count": 17
    }
   ],
   "source": [
    "collection.delete_one({'name':'Kitty'})"
   ]
  },
  {
   "cell_type": "code",
   "execution_count": 18,
   "metadata": {},
   "outputs": [
    {
     "output_type": "execute_result",
     "data": {
      "text/plain": [
       "10"
      ]
     },
     "metadata": {},
     "execution_count": 18
    }
   ],
   "source": [
    "collection.count_documents({})"
   ]
  },
  {
   "cell_type": "code",
   "execution_count": 19,
   "metadata": {},
   "outputs": [],
   "source": [
    "result = collection.delete_many({'name':'Kitty'})"
   ]
  },
  {
   "cell_type": "code",
   "execution_count": 20,
   "metadata": {},
   "outputs": [
    {
     "output_type": "execute_result",
     "data": {
      "text/plain": [
       "0"
      ]
     },
     "metadata": {},
     "execution_count": 20
    }
   ],
   "source": [
    "result.deleted_count"
   ]
  },
  {
   "cell_type": "code",
   "execution_count": 21,
   "metadata": {},
   "outputs": [],
   "source": [
    "#update_one 修改一筆資料"
   ]
  },
  {
   "cell_type": "code",
   "execution_count": 22,
   "metadata": {},
   "outputs": [
    {
     "output_type": "execute_result",
     "data": {
      "text/plain": [
       "<pymongo.results.UpdateResult at 0x7f99da223940>"
      ]
     },
     "metadata": {},
     "execution_count": 22
    }
   ],
   "source": [
    "filter_ = {'name':'Kevin'}\n",
    "update_ = {'$set':{'name':'Green'}}\n",
    "collection.update_one(filter_, update_)"
   ]
  },
  {
   "cell_type": "code",
   "execution_count": 23,
   "metadata": {},
   "outputs": [],
   "source": [
    "#update_many 修改多筆資料"
   ]
  },
  {
   "cell_type": "code",
   "execution_count": 24,
   "metadata": {},
   "outputs": [
    {
     "output_type": "execute_result",
     "data": {
      "text/plain": [
       "<pymongo.results.UpdateResult at 0x7f99da267e40>"
      ]
     },
     "metadata": {},
     "execution_count": 24
    }
   ],
   "source": [
    "collection.update_many(filter_, update_)"
   ]
  },
  {
   "cell_type": "code",
   "execution_count": 25,
   "metadata": {},
   "outputs": [],
   "source": [
    "#find_one 查詢一筆資料"
   ]
  },
  {
   "cell_type": "code",
   "execution_count": 26,
   "metadata": {},
   "outputs": [],
   "source": [
    "result = collection.find_one({})"
   ]
  },
  {
   "cell_type": "code",
   "execution_count": 27,
   "metadata": {},
   "outputs": [
    {
     "output_type": "execute_result",
     "data": {
      "text/plain": [
       "{'_id': ObjectId('5fdf8d86129533e600558fad'),\n",
       " 'name': 'Michael',\n",
       " 'phone': '0912345678',\n",
       " 'email': 'michael@gmail.com',\n",
       " 'age': 20}"
      ]
     },
     "metadata": {},
     "execution_count": 27
    }
   ],
   "source": [
    "result"
   ]
  },
  {
   "cell_type": "code",
   "execution_count": 28,
   "metadata": {},
   "outputs": [],
   "source": [
    "#find 查詢多筆資料"
   ]
  },
  {
   "cell_type": "code",
   "execution_count": 29,
   "metadata": {},
   "outputs": [],
   "source": [
    "result = collection.find()"
   ]
  },
  {
   "cell_type": "code",
   "execution_count": 30,
   "metadata": {},
   "outputs": [
    {
     "output_type": "stream",
     "name": "stdout",
     "text": [
      "{'_id': ObjectId('5fdf8d86129533e600558fad'), 'name': 'Michael', 'phone': '0912345678', 'email': 'michael@gmail.com', 'age': 20}\n{'_id': ObjectId('5fdf8d86129533e600558fae'), 'name': 'Mike', 'phone': '09321056789', 'email': 'mike@gmail.com', 'age': 20}\n{'_id': ObjectId('5fdf8da3129533e600558fb0'), 'name': 'Michael', 'phone': '0912345678', 'email': 'michael@gmail.com', 'age': 20}\n{'_id': ObjectId('5fdf8da3129533e600558fb1'), 'name': 'Mike', 'phone': '09321056789', 'email': 'mike@gmail.com', 'age': 20}\n{'_id': ObjectId('5fdf8dbf129533e600558fb3'), 'name': 'Green', 'phone': '0912345678', 'email': 'test@gmail.com', 'age': 20}\n{'_id': ObjectId('5fdf8dbf129533e600558fb5'), 'name': 'Michael', 'phone': '0912345678', 'email': 'michael@gmail.com', 'age': 20}\n{'_id': ObjectId('5fdf8dbf129533e600558fb6'), 'name': 'Mike', 'phone': '09321056789', 'email': 'mike@gmail.com', 'age': 20}\n{'_id': ObjectId('5fe0721044c6dd6501f1aa0f'), 'name': 'Green', 'phone': '0912345678', 'email': 'test@gmail.com'}\n{'_id': ObjectId('5fe0721044c6dd6501f1aa11'), 'name': 'Michael', 'phone': '0912345678', 'email': 'michael@gmail.com'}\n{'_id': ObjectId('5fe0721044c6dd6501f1aa12'), 'name': 'Mike', 'phone': '09321056789', 'email': 'mike@gmail.com'}\n"
     ]
    }
   ],
   "source": [
    "for x in result:\n",
    "    print(x)"
   ]
  },
  {
   "cell_type": "code",
   "execution_count": 31,
   "metadata": {},
   "outputs": [],
   "source": [
    "#sort 排序"
   ]
  },
  {
   "cell_type": "code",
   "execution_count": 32,
   "metadata": {},
   "outputs": [
    {
     "output_type": "execute_result",
     "data": {
      "text/plain": [
       "<pymongo.results.UpdateResult at 0x7f99da26eb00>"
      ]
     },
     "metadata": {},
     "execution_count": 32
    }
   ],
   "source": [
    "filter_ = {}\n",
    "update_ = {'$set':{'age':20}}\n",
    "collection.update_many(filter_, update_)"
   ]
  },
  {
   "cell_type": "code",
   "execution_count": 33,
   "metadata": {},
   "outputs": [],
   "source": [
    "result = collection.find().sort('age', -1)"
   ]
  },
  {
   "cell_type": "code",
   "execution_count": 34,
   "metadata": {},
   "outputs": [
    {
     "output_type": "stream",
     "name": "stdout",
     "text": [
      "{'_id': ObjectId('5fdf8d86129533e600558fad'), 'name': 'Michael', 'phone': '0912345678', 'email': 'michael@gmail.com', 'age': 20}\n{'_id': ObjectId('5fdf8d86129533e600558fae'), 'name': 'Mike', 'phone': '09321056789', 'email': 'mike@gmail.com', 'age': 20}\n{'_id': ObjectId('5fdf8da3129533e600558fb0'), 'name': 'Michael', 'phone': '0912345678', 'email': 'michael@gmail.com', 'age': 20}\n{'_id': ObjectId('5fdf8da3129533e600558fb1'), 'name': 'Mike', 'phone': '09321056789', 'email': 'mike@gmail.com', 'age': 20}\n{'_id': ObjectId('5fdf8dbf129533e600558fb3'), 'name': 'Green', 'phone': '0912345678', 'email': 'test@gmail.com', 'age': 20}\n{'_id': ObjectId('5fdf8dbf129533e600558fb5'), 'name': 'Michael', 'phone': '0912345678', 'email': 'michael@gmail.com', 'age': 20}\n{'_id': ObjectId('5fdf8dbf129533e600558fb6'), 'name': 'Mike', 'phone': '09321056789', 'email': 'mike@gmail.com', 'age': 20}\n{'_id': ObjectId('5fe0721044c6dd6501f1aa0f'), 'name': 'Green', 'phone': '0912345678', 'email': 'test@gmail.com', 'age': 20}\n{'_id': ObjectId('5fe0721044c6dd6501f1aa11'), 'name': 'Michael', 'phone': '0912345678', 'email': 'michael@gmail.com', 'age': 20}\n{'_id': ObjectId('5fe0721044c6dd6501f1aa12'), 'name': 'Mike', 'phone': '09321056789', 'email': 'mike@gmail.com', 'age': 20}\n"
     ]
    }
   ],
   "source": [
    "for x in result:\n",
    "    print(x)"
   ]
  },
  {
   "cell_type": "code",
   "execution_count": 35,
   "metadata": {},
   "outputs": [],
   "source": [
    "#limit 限制找尋資料"
   ]
  },
  {
   "cell_type": "code",
   "execution_count": 36,
   "metadata": {},
   "outputs": [],
   "source": [
    "result = collection.find().limit(2)"
   ]
  },
  {
   "cell_type": "code",
   "execution_count": 37,
   "metadata": {},
   "outputs": [
    {
     "output_type": "stream",
     "name": "stdout",
     "text": [
      "{'_id': ObjectId('5fdf8d86129533e600558fad'), 'name': 'Michael', 'phone': '0912345678', 'email': 'michael@gmail.com', 'age': 20}\n{'_id': ObjectId('5fdf8d86129533e600558fae'), 'name': 'Mike', 'phone': '09321056789', 'email': 'mike@gmail.com', 'age': 20}\n"
     ]
    }
   ],
   "source": [
    "for x in result:\n",
    "    print(x)"
   ]
  },
  {
   "cell_type": "code",
   "execution_count": null,
   "metadata": {},
   "outputs": [],
   "source": []
  }
 ],
 "metadata": {
  "kernelspec": {
   "display_name": "Python 3",
   "language": "python",
   "name": "python3"
  },
  "language_info": {
   "codemirror_mode": {
    "name": "ipython",
    "version": 3
   },
   "file_extension": ".py",
   "mimetype": "text/x-python",
   "name": "python",
   "nbconvert_exporter": "python",
   "pygments_lexer": "ipython3",
   "version": "3.8.5-final"
  }
 },
 "nbformat": 4,
 "nbformat_minor": 4
}